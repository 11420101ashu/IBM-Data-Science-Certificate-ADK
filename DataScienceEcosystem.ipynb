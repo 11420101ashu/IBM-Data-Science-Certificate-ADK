{
 "cells": [
  {
   "cell_type": "code",
   "execution_count": 1,
   "id": "869201d4-779f-4dbf-93bf-045692433d91",
   "metadata": {},
   "outputs": [],
   "source": [
    "# Exercise 1: Create a Jupyter Notebook\n",
    "\n",
    "# Create a new Jupyter notebook called DataScienceEcosystem.ipynb"
   ]
  },
  {
   "cell_type": "code",
   "execution_count": 2,
   "id": "83c266c6-bd48-406a-9d9d-0c79715d4828",
   "metadata": {},
   "outputs": [],
   "source": [
    "# Exercise 2: Create markdown cell with title of the notebook\n",
    "\n",
    "# Create a markdown cell with the title Data Science Tools and Ecosystem using H1 style heading."
   ]
  },
  {
   "cell_type": "markdown",
   "id": "05c0fa50-f634-42bc-9ace-1653c8568eda",
   "metadata": {},
   "source": [
    "# Data Science Tools and Ecosystem"
   ]
  },
  {
   "cell_type": "code",
   "execution_count": 3,
   "id": "6189231d-c28f-442d-a2fc-1ba49f93d6a6",
   "metadata": {},
   "outputs": [],
   "source": [
    "# Exercise 3 - Create a markdown cell for an introduction\n",
    "\n",
    "# Write an introductory sentence about the notebook such as the follows:\n",
    "\n",
    "# In this notebook, Data Science Tools and Ecosystem are summarized."
   ]
  },
  {
   "cell_type": "markdown",
   "id": "805d3d2f-c871-4ce2-9030-955d636e185b",
   "metadata": {},
   "source": [
    "In this notebook, Data Science Tools and Ecosystem are summarized."
   ]
  },
  {
   "cell_type": "code",
   "execution_count": 4,
   "id": "f6c7ad16-dcd3-45db-9f47-df84c862b1a8",
   "metadata": {},
   "outputs": [],
   "source": [
    "# Exercise 4 - Create a markdown cell to list data science languages\n",
    "\n",
    "# Start the cell with an overview line such as:\n",
    "\n",
    "# Some of the popular languages that Data Scientists use are:\n",
    "# Then create an ordered list (i.e. numbered) listing 3 (or more) commonly used languages for data science."
   ]
  },
  {
   "cell_type": "markdown",
   "id": "293c1c80-c048-4968-8d87-b39584e656cc",
   "metadata": {},
   "source": [
    "Some of the popular languages that Data Scientists use are:\n",
    "\n",
    "1. Python\n",
    "2. R\n",
    "3. SQL"
   ]
  },
  {
   "cell_type": "code",
   "execution_count": 5,
   "id": "b8b7b46d-faed-4026-aca4-058aa75ab6ed",
   "metadata": {},
   "outputs": [],
   "source": [
    "# Exercise 5 - Create a markdown cell to list data science libraries\n",
    "\n",
    "# Add an overview line to the cell like:\n",
    "\n",
    "# Some of the commonly used libraries used by Data Scientists include:\n",
    "# Below this line add an ordered list listing 3 (or more) commonly used libraries in data science."
   ]
  },
  {
   "cell_type": "markdown",
   "id": "c1a279d6-ea92-4011-ac79-b62e6ca96da6",
   "metadata": {},
   "source": [
    "Some of the commonly used libraries used by Data Scientists include:\n",
    "\n",
    "1. Scikit-learn\n",
    "2. NumPy\n",
    "3. Matplotlib\n",
    "4. Pandas"
   ]
  },
  {
   "cell_type": "code",
   "execution_count": 6,
   "id": "c80dedd9-3860-4d94-8d70-6616974bc9ae",
   "metadata": {},
   "outputs": [],
   "source": [
    "# Exercise 6 - Create a markdown cell with a table of Data Science tools\n",
    "\n",
    "# Create a single column table in this cell with the first row containing the header Data Science Tools.\n",
    "# The subsequent three rows in the table should indicate three development environment open source tools used in data science."
   ]
  },
  {
   "cell_type": "markdown",
   "id": "32e5c91e-5912-4941-87c5-819d5eecbaf7",
   "metadata": {},
   "source": [
    "| Data Science Tools |\n",
    "|------|\n",
    "|Jupyter Notebook|\n",
    "|Python|\n",
    "|R|"
   ]
  },
  {
   "cell_type": "code",
   "execution_count": 7,
   "id": "195b182d-bdd7-41fd-b2b0-1c2640489c8b",
   "metadata": {},
   "outputs": [],
   "source": [
    "# Exercise 7 - Create a markdown cell introducing arithmetic expression examples\n",
    "\n",
    "# Add a line in this cell with H3 style heading with text like:\n",
    "\n",
    "# Below are a few examples of evaluating arithmetic expressions in Python"
   ]
  },
  {
   "cell_type": "markdown",
   "id": "4c6af988-696b-4f7b-bbed-cd91e176283a",
   "metadata": {},
   "source": [
    "### Below are a few examples of evaluating arithmetic expressions in Python"
   ]
  },
  {
   "cell_type": "code",
   "execution_count": 8,
   "id": "22c11b4e-ddcb-4327-b2dc-108f408113ae",
   "metadata": {},
   "outputs": [],
   "source": [
    "# Exercise 8 - Create a code cell to multiply and add numbers\n",
    "\n",
    "# In this code cell evaluate the expression (3*4)+5.\n",
    "# Insert a comment line before the expression to explain the operation e.g.  This a simple arithmetic expression to mutiply then add integers.\n",
    "# Then execute the cell to ensure the expression returns the expected output of 17."
   ]
  },
  {
   "cell_type": "code",
   "execution_count": 9,
   "id": "9d6eeade-e7b7-4333-82c1-0d9fdc749e44",
   "metadata": {},
   "outputs": [
    {
     "data": {
      "text/plain": [
       "17"
      ]
     },
     "execution_count": 9,
     "metadata": {},
     "output_type": "execute_result"
    }
   ],
   "source": [
    "#This a simple arithmetic expression to mutiply then add integers\n",
    "(3*4)+5"
   ]
  },
  {
   "cell_type": "code",
   "execution_count": 10,
   "id": "b6b2a5a9-5bef-4ebd-9fd3-034222c2f783",
   "metadata": {},
   "outputs": [],
   "source": [
    "# Exercise 9 - Create a code cell to convert minutes to hours\n",
    "\n",
    "# In this code cell write an expression that converts 200 minutes into hours.\n",
    "# Insert a comment line before the expression to explain the operation e.g.  This will convert 200 minutes to hours by diving by 60.\n",
    "# Run the cell to evaluate the expression."
   ]
  },
  {
   "cell_type": "code",
   "execution_count": 11,
   "id": "0f802a84-584c-49c8-979a-446f149efd5e",
   "metadata": {},
   "outputs": [
    {
     "data": {
      "text/plain": [
       "3.3333333333333335"
      ]
     },
     "execution_count": 11,
     "metadata": {},
     "output_type": "execute_result"
    }
   ],
   "source": [
    "# This will convert 200 minutes to hours by dividing by 60\n",
    "200/60"
   ]
  },
  {
   "cell_type": "code",
   "execution_count": 12,
   "id": "37fa57b1-c744-4780-9437-bfcee2f6a519",
   "metadata": {},
   "outputs": [],
   "source": [
    "# Exercise 10 - Insert a markdown cell to list Objectives\n",
    "\n",
    "# In this new cell start with an introductory line titled: Objectives: in bold font.\n",
    "# Then using an unordered list (bullets) indicate 3 to 5 items covered in this notebook, such as List popular languages for Data Science"
   ]
  },
  {
   "cell_type": "markdown",
   "id": "4288afdd-6e6a-432d-9cf3-45a987803a26",
   "metadata": {},
   "source": [
    "**Objectives**\n",
    "\n",
    "- Creating different types of headings in markdown cells\n",
    "- Performing arithmetic expressions\n",
    "- Knowing popular Data Science languages\n",
    "- Understanding the working oof Jupyter Notebook "
   ]
  },
  {
   "cell_type": "code",
   "execution_count": 13,
   "id": "39ce446f-cd88-4392-a0fa-ef073d33d652",
   "metadata": {},
   "outputs": [],
   "source": [
    "# Exercise 11 - Create a markdown cell to indicate the Author's name\n",
    "\n",
    "# In this markdown cell include the following text Author in H2 style heading.\n",
    "# Include your name as regular text below the word Author."
   ]
  },
  {
   "cell_type": "markdown",
   "id": "77310db4-af62-464d-8c78-f2759c0f3114",
   "metadata": {},
   "source": [
    "## Author\n",
    "Ashutosh Kale"
   ]
  },
  {
   "cell_type": "code",
   "execution_count": null,
   "id": "c28274ee-3897-4b1a-be9a-23158c1a7f73",
   "metadata": {},
   "outputs": [],
   "source": []
  }
 ],
 "metadata": {
  "kernelspec": {
   "display_name": "Python 3 (ipykernel)",
   "language": "python",
   "name": "python3"
  },
  "language_info": {
   "codemirror_mode": {
    "name": "ipython",
    "version": 3
   },
   "file_extension": ".py",
   "mimetype": "text/x-python",
   "name": "python",
   "nbconvert_exporter": "python",
   "pygments_lexer": "ipython3",
   "version": "3.12.3"
  }
 },
 "nbformat": 4,
 "nbformat_minor": 5
}
